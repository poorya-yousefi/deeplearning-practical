{
 "cells": [
  {
   "cell_type": "markdown",
   "id": "023eda44",
   "metadata": {},
   "source": [
    "# IMDB Dataset\n",
    "A set of 50,000 highly polarized reviews from the Internet Movie Database. They’re split into 25,000 reviews for training and 25,000 reviews for testing, each set consisting of 50% negative and 50% positive reviews."
   ]
  },
  {
   "cell_type": "markdown",
   "id": "c6ab8925",
   "metadata": {},
   "source": [
    "## Data Preparation"
   ]
  },
  {
   "cell_type": "code",
   "execution_count": null,
   "id": "581e9b88",
   "metadata": {},
   "outputs": [],
   "source": [
    "from tensorflow.keras.datasets import imdb"
   ]
  },
  {
   "cell_type": "code",
   "execution_count": null,
   "id": "462160ec",
   "metadata": {},
   "outputs": [],
   "source": [
    "# config\n",
    "NUMBER_OF_WORDS = 10000"
   ]
  },
  {
   "cell_type": "markdown",
   "id": "0b522d09",
   "metadata": {},
   "source": [
    "### Load Data"
   ]
  },
  {
   "cell_type": "code",
   "execution_count": null,
   "id": "c2c65d33",
   "metadata": {},
   "outputs": [],
   "source": [
    "(train_data, train_labels), (test_data, test_labels) = imdb.load_data(\n",
    "num_words=NUMBER_OF_WORDS)"
   ]
  },
  {
   "cell_type": "markdown",
   "id": "0a732bc8",
   "metadata": {},
   "source": [
    "### Inspect Data"
   ]
  },
  {
   "cell_type": "code",
   "execution_count": null,
   "id": "e4846e6d",
   "metadata": {},
   "outputs": [],
   "source": [
    "# Inspect train data\n",
    "print(type(train_data))\n",
    "print(train_data.ndim)\n",
    "print(train_data.dtype)\n",
    "print(train_data.shape)\n",
    "\n",
    "# Inspect train labels\n",
    "print(type(train_labels))\n",
    "print(train_labels.ndim)\n",
    "print(train_labels.dtype)\n",
    "print(train_labels.shape)"
   ]
  },
  {
   "cell_type": "code",
   "execution_count": null,
   "id": "cd2a59c3",
   "metadata": {},
   "outputs": [],
   "source": [
    "# Show latest index in words\n",
    "max([max(seq) for seq in train_data])"
   ]
  },
  {
   "cell_type": "code",
   "execution_count": null,
   "id": "4ae2c1a9",
   "metadata": {},
   "outputs": [],
   "source": []
  }
 ],
 "metadata": {
  "language_info": {
   "name": "python"
  }
 },
 "nbformat": 4,
 "nbformat_minor": 5
}
