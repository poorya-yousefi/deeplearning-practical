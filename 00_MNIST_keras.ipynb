{
 "cells": [
  {
   "cell_type": "markdown",
   "id": "03ee4563",
   "metadata": {},
   "source": [
    "# MNIST Classification Project\n",
    "\n",
    "This notebook is designed to guide you through building a deep learning model to classify handwritten digits from the MNIST dataset.\n",
    "\n",
    "## Outline\n",
    "1. **Introduction**\n",
    "   - Overview of the MNIST dataset\n",
    "   - Problem statement\n",
    "\n",
    "2. **Data Preparation**\n",
    "   - Loading the dataset\n",
    "   - Visualizing the data\n",
    "   - Preprocessing steps\n",
    "\n",
    "3. **Model Building**\n",
    "   - Defining the neural network architecture\n",
    "   - Choosing the optimizer and loss function\n",
    "\n",
    "4. **Model Training**\n",
    "   - Training the model\n",
    "   - Monitoring performance metrics\n",
    "\n",
    "5. **Evaluation**\n",
    "   - Evaluating the model on test data\n",
    "   - Analyzing results\n",
    "\n",
    "6. **Conclusion**\n",
    "   - Summary of findings\n",
    "   - Future work\n",
    "\n",
    "---\n"
   ]
  },
  {
   "cell_type": "markdown",
   "id": "5b879f8b",
   "metadata": {},
   "source": [
    "## 1. Introduction\n",
    "\n",
    "### Overview of the MNIST Dataset\n",
    "The MNIST dataset is a benchmark dataset in the field of machine learning and computer vision. It consists of 70,000 grayscale images of handwritten digits (0-9), each of size 28y28 piyels. The dataset is divided into 60,000 training images and 10,000 test images. Each image is labeled with the corresponding digit it represents.\n",
    "\n",
    "The MNIST dataset is widely used for training and testing machine learning models, particularly in the domain of image classification. It serves as a great starting point for beginners in deep learning.\n",
    "\n",
    "### Problem Statement\n",
    "The goal of this project is to build a deep learning model that can accurately classify handwritten digits from the MNIST dataset. The model will take a 28y28 piyel image as input and output the predicted digit (0-9).\n",
    "\n",
    "By the end of this project, we aim to achieve a high level of accuracy on the test dataset and analyze the model's performance to identify potential areas for improvement."
   ]
  },
  {
   "cell_type": "markdown",
   "id": "361fcfa2",
   "metadata": {},
   "source": [
    "## 2. Data Preparation\n",
    "\n",
    "### Loading the Dataset\n",
    "We will use the `tensorflow.keras` library to load the MNIST dataset. The dataset is pre-split into training and test sets, making it convenient for our use.\n",
    "\n",
    "### Visualizing the Data\n",
    "To better understand the dataset, we will visualize a few samples from the training set. This will help us confirm that the data is loaded correctly and give us an idea of the variety in the handwritten digits.\n",
    "\n",
    "### Preprocessing Steps\n",
    "Before feeding the data into our model, we need to preprocess it. The preprocessing steps include:\n",
    "1. Normalizing the pixel values to the range [0, 1].\n",
    "2. Reshaping the images to include a channel dimension (required for TensorFlow models).\n",
    "3. Converting the labels to one-hot encoded format for multi-class classification."
   ]
  },
  {
   "cell_type": "code",
   "execution_count": 17,
   "id": "4493b239",
   "metadata": {},
   "outputs": [],
   "source": [
    "import numpy as np\n",
    "import matplotlib.pyplot as plt\n",
    "from tensorflow.keras import datasets\n",
    "from tensorflow.keras import Sequential\n",
    "from tensorflow.keras import layers\n",
    "from keras.utils import to_categorical "
   ]
  },
  {
   "cell_type": "markdown",
   "id": "16266cec",
   "metadata": {},
   "source": [
    ">> Cleanse Section doesn't needed because of easy made MNIST dataset. special thanks to the Keras available and ready-to-use datasets."
   ]
  },
  {
   "cell_type": "markdown",
   "id": "ddb28928",
   "metadata": {},
   "source": [
    "### 1. Load Data\n",
    "It's `Gathered`, `Discoverd`, `Cleaned` Data."
   ]
  },
  {
   "cell_type": "code",
   "execution_count": 28,
   "id": "fa1e435d",
   "metadata": {},
   "outputs": [],
   "source": [
    "# Load the MNIST [ready to use] dataset\n",
    "(x_train, y_train), (x_test, y_test) = datasets.mnist.load_data()"
   ]
  },
  {
   "cell_type": "markdown",
   "id": "1bdb5ab4",
   "metadata": {},
   "source": [
    "### 2. Data Inspection"
   ]
  },
  {
   "cell_type": "markdown",
   "id": "a8a5dce0",
   "metadata": {},
   "source": [
    "Inspecting `X_Train`"
   ]
  },
  {
   "cell_type": "code",
   "execution_count": 19,
   "id": "bec499bf",
   "metadata": {},
   "outputs": [
    {
     "name": "stdout",
     "output_type": "stream",
     "text": [
      "<class 'numpy.ndarray'>\n",
      "3\n",
      "uint8\n",
      "(60000, 28, 28)\n"
     ]
    }
   ],
   "source": [
    "print(type(x_train))\n",
    "print(x_train.ndim)\n",
    "print(x_train.dtype)\n",
    "print(x_train.shape)"
   ]
  },
  {
   "cell_type": "markdown",
   "id": "85c49680",
   "metadata": {},
   "source": [
    "Inspecting `Y_Train`"
   ]
  },
  {
   "cell_type": "code",
   "execution_count": 20,
   "id": "bf46ab57",
   "metadata": {},
   "outputs": [
    {
     "name": "stdout",
     "output_type": "stream",
     "text": [
      "<class 'numpy.ndarray'>\n",
      "1\n",
      "uint8\n",
      "(60000,)\n"
     ]
    }
   ],
   "source": [
    "print(type(y_train))\n",
    "print(y_train.ndim)\n",
    "print(y_train.dtype)\n",
    "print(y_train.shape)"
   ]
  },
  {
   "cell_type": "markdown",
   "id": "304d67f4",
   "metadata": {},
   "source": [
    "Inspecting `X_Test`"
   ]
  },
  {
   "cell_type": "code",
   "execution_count": 31,
   "id": "1f192027",
   "metadata": {},
   "outputs": [
    {
     "name": "stdout",
     "output_type": "stream",
     "text": [
      "<class 'numpy.ndarray'>\n",
      "4\n",
      "float32\n",
      "(10000, 28, 28, 1)\n"
     ]
    }
   ],
   "source": [
    "print(type(x_test))\n",
    "print(x_test.ndim)\n",
    "print(x_test.dtype)\n",
    "print(x_test.shape)"
   ]
  },
  {
   "cell_type": "markdown",
   "id": "3b44042d",
   "metadata": {},
   "source": [
    "Inspecting `Y_Test`"
   ]
  },
  {
   "cell_type": "code",
   "execution_count": 32,
   "id": "1e9e3ce9",
   "metadata": {},
   "outputs": [
    {
     "name": "stdout",
     "output_type": "stream",
     "text": [
      "<class 'numpy.ndarray'>\n",
      "2\n",
      "float64\n",
      "(10000, 10)\n"
     ]
    }
   ],
   "source": [
    "print(type(y_test))\n",
    "print(y_test.ndim)\n",
    "print(y_test.dtype)\n",
    "print(y_test.shape)"
   ]
  },
  {
   "cell_type": "markdown",
   "id": "5fe2a0f3",
   "metadata": {},
   "source": [
    "`Visualize` some samples to insure it's loaded correctly."
   ]
  },
  {
   "cell_type": "code",
   "execution_count": null,
   "id": "2d66141b",
   "metadata": {},
   "outputs": [],
   "source": [
    "plt.figure(figsize=(10, 5))\n",
    "for i in range(10):\n",
    "    plt.subplot(2, 5, i + 1)\n",
    "    plt.imshow(x_train[i], cmap='gray')\n",
    "    plt.title(f'Label: {y_train[i]}')\n",
    "    plt.axis('off')\n",
    "plt.tight_layout()\n",
    "plt.show()"
   ]
  },
  {
   "cell_type": "code",
   "execution_count": 29,
   "id": "6610cc2f",
   "metadata": {},
   "outputs": [
    {
     "data": {
      "image/png": "[encoded data removed]",
      "text/plain": [
       "<Figure size 1000x500 with 10 Axes>"
      ]
     },
     "metadata": {},
     "output_type": "display_data"
    },
    {
     "name": "stdout",
     "output_type": "stream",
     "text": [
      "Data preparation complete!\n"
     ]
    }
   ],
   "source": [
    "\n",
    "\n",
    "# Preprocess the data\n",
    "# Normalize the pixel values to the range [0, 1]\n",
    "x_train = x_train.astype('float32') / 255.0\n",
    "x_test = x_test.astype('float32') / 255.0\n",
    "\n",
    "# Reshape the images to include a channel dimension\n",
    "x_train = np.expand_dims(x_train, axis=-1)\n",
    "x_test = np.expand_dims(x_test, axis=-1)\n",
    "\n",
    "# Convert the labels to one-hot encoded format\n",
    "y_train = to_categorical(y_train, num_classes=10)\n",
    "y_test = to_categorical(y_test, num_classes=10)\n",
    "\n",
    "print('Data preparation complete!')"
   ]
  },
  {
   "cell_type": "markdown",
   "id": "55e865e3",
   "metadata": {},
   "source": [
    "## 3. Model Building"
   ]
  },
  {
   "cell_type": "markdown",
   "id": "7b61a693",
   "metadata": {},
   "source": [
    "## 4. Model Training"
   ]
  },
  {
   "cell_type": "markdown",
   "id": "a8dbefb3",
   "metadata": {},
   "source": [
    "## 5. Evaluation"
   ]
  },
  {
   "cell_type": "markdown",
   "id": "d4e6bb1b",
   "metadata": {},
   "source": []
  }
 ],
 "metadata": {
  "kernelspec": {
   "display_name": "Python [conda env:base] *",
   "language": "python",
   "name": "conda-base-py"
  }
 },
 "nbformat": 4,
 "nbformat_minor": 5
}
